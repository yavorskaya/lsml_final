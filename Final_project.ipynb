{
 "cells": [
  {
   "cell_type": "code",
   "execution_count": 458,
   "id": "890dec24",
   "metadata": {
    "cellId": "hti09nny43l2mm9otb64u5"
   },
   "outputs": [],
   "source": [
    "#!g1.1\n",
    "import torch\n",
    "import torch.nn as nn\n",
    "import torchvision\n",
    "import torchvision.transforms as transforms\n",
    "import cv2\n",
    "import os\n",
    "from torch.utils.data import Dataset, DataLoader, RandomSampler, SequentialSampler\n",
    "import numpy as np\n",
    "import time\n",
    "import matplotlib.pyplot as plt\n",
    "from torch.utils.data import TensorDataset, random_split\n",
    "from PIL import Image\n",
    "from sklearn.metrics import accuracy_score"
   ]
  },
  {
   "cell_type": "code",
   "execution_count": 184,
   "id": "38d7563f",
   "metadata": {
    "cellId": "y3j2ifbyo9dn1ivlkcu0m"
   },
   "outputs": [],
   "source": [
    "# #!g1.1\n",
    "# %rm -r ./data/test/.ipynb_checkpoints\n",
    "# %rm -r ./data/val/0/.ipynb_checkpoints\n",
    "# %rm -r ./data/val/1/.ipynb_checkpoints\n",
    "%rm -r ./data/test/.ipynb_checkpoints\n",
    "# %rm -r ./data/val/3/.ipynb_checkpoints\n",
    "# %rm -r ./data/val/4/.ipynb_checkpoints\n",
    "# %rm -r ./data/val/5/.ipynb_checkpoints"
   ]
  },
  {
   "cell_type": "code",
   "execution_count": 459,
   "id": "e4507ea1",
   "metadata": {
    "cellId": "d0b4rk61towos4vg4gc1"
   },
   "outputs": [
    {
     "data": {
      "text/plain": [
       "Dataset ImageFolder\n",
       "    Number of datapoints: 72\n",
       "    Root location: ./data/valid/\n",
       "    StandardTransform\n",
       "Transform: Compose(\n",
       "               Grayscale(num_output_channels=1)\n",
       "               ToTensor()\n",
       "               Normalize(mean=[0.5], std=[0.5])\n",
       "           )"
      ]
     },
     "metadata": {},
     "output_type": "display_data"
    }
   ],
   "source": [
    "#!g1.1\n",
    "train_data_path = \"./data/train/\"\n",
    "valid_data_path = \"./data/valid/\"\n",
    "test_data_path = \"./data/test/\"\n",
    "\n",
    "transforms = torchvision.transforms.Compose([\n",
    "#     torchvision.transforms.Resize(64),\n",
    "    torchvision.transforms.Grayscale(),\n",
    "    torchvision.transforms.ToTensor(),\n",
    "    torchvision.transforms.Normalize(mean=[0.5], std=[0.5])\n",
    "])\n",
    "\n",
    "train_data = torchvision.datasets.ImageFolder(root=train_data_path, transform=transforms)\n",
    "valid_data = torchvision.datasets.ImageFolder(root=valid_data_path, transform=transforms)\n",
    "test_data = torchvision.datasets.ImageFolder(root=test_data_path, transform=transforms)\n",
    "\n",
    "valid_data"
   ]
  },
  {
   "cell_type": "code",
   "execution_count": 460,
   "id": "36a9b821",
   "metadata": {
    "cellId": "9o7tczxpus9mhvt2143ju"
   },
   "outputs": [],
   "source": [
    "#!g1.1\n",
    "\n",
    "# # Create a 90-10 train-validation split.\n",
    "# train_size = int(0.9 * len(train_data))\n",
    "# val_size = len(train_data) - train_size\n",
    "\n",
    "# # Divide the dataset by randomly selecting samples.\n",
    "# train_dataset, val_dataset = random_split(train_data, [train_size, val_size])\n",
    "\n",
    "# print('{:>5,} training samples'.format(train_size))\n",
    "# print('{:>5,} validation samples'.format(val_size))"
   ]
  },
  {
   "cell_type": "code",
   "execution_count": 461,
   "id": "6935fa3a",
   "metadata": {
    "cellId": "mh2c2nq2nxnv27wb02u7mh"
   },
   "outputs": [],
   "source": [
    "#!g1.1\n",
    "batch_size = 64\n",
    "train_data_loader = DataLoader(train_data, batch_size=batch_size)\n",
    "valid_data_loader = DataLoader(valid_data, batch_size=batch_size)\n",
    "test_data_loader = DataLoader(test_data, batch_size=batch_size)"
   ]
  },
  {
   "cell_type": "code",
   "execution_count": 368,
   "id": "89621df0",
   "metadata": {
    "cellId": "7oxv4r6zvee0u7xynvlhsl"
   },
   "outputs": [],
   "source": [
    "#!g1.1\n",
    "# class SimpleNet(nn.Module):\n",
    "\n",
    "#     def __init__(self):\n",
    "#         super(SimpleNet, self).__init__()\n",
    "#         self.fc1 = nn.Linear(12288, 84)\n",
    "#         self.fc2 = nn.Linear(84, 50)\n",
    "#         self.fc3 = nn.Linear(50, 6)\n",
    "\n",
    "#     def forward(self, x):\n",
    "#         x = x.view(-1, 12288)\n",
    "#         x = nn.functional.relu(self.fc1(x))\n",
    "#         x = nn.functional.relu(self.fc2(x))\n",
    "#         x = nn.functional.softmax(self.fc3(x), dim=1)\n",
    "#         return x"
   ]
  },
  {
   "cell_type": "code",
   "execution_count": 455,
   "id": "bc87b8cb",
   "metadata": {
    "cellId": "qloev9yn2eegvnep96jpk"
   },
   "outputs": [
    {
     "name": "stdout",
     "output_type": "stream",
     "text": [
      "SimpleNet(\n",
      "  (conv1): Conv2d(3, 12288, kernel_size=(3, 3), stride=(1, 1), padding=(1, 1))\n",
      "  (relu1): ReLU()\n",
      "  (conv2): Conv2d(12288, 4096, kernel_size=(3, 3), stride=(1, 1), padding=(1, 1))\n",
      "  (relu2): ReLU()\n",
      "  (pool): MaxPool2d(kernel_size=2, stride=2, padding=0, dilation=1, ceil_mode=False)\n",
      "  (conv3): Conv2d(4096, 1024, kernel_size=(3, 3), stride=(1, 1), padding=(1, 1))\n",
      "  (relu3): ReLU()\n",
      "  (conv4): Conv2d(1024, 256, kernel_size=(3, 3), stride=(1, 1), padding=(1, 1))\n",
      "  (relu4): ReLU()\n",
      "  (fc): Linear(in_features=256, out_features=6, bias=True)\n",
      ")\n"
     ]
    }
   ],
   "source": [
    "#!g1.1\n",
    "simplenet = SimpleNet()\n",
    "print(simplenet)"
   ]
  },
  {
   "cell_type": "code",
   "execution_count": 456,
   "id": "948c7208",
   "metadata": {
    "cellId": "yp4nyim495au7n3yiatnt"
   },
   "outputs": [
    {
     "name": "stdout",
     "output_type": "stream",
     "text": [
      "Let's use 1 GPUs!\n",
      "Batch size: 64\n"
     ]
    }
   ],
   "source": [
    "#!g1.1\n",
    "import torch.optim as optim\n",
    "optimizer = optim.Adam(simplenet.parameters(), lr=0.001)\n",
    "\n",
    "epochs = 5\n",
    "\n",
    "# loss_fn = nn.CrossEntropyLoss()\n",
    "\n",
    "if torch.cuda.is_available():\n",
    "    device = torch.device(\"cuda:0\")\n",
    "    batch_size *= torch.cuda.device_count()\n",
    "    print(\"Let's use\", torch.cuda.device_count(), \"GPUs!\")\n",
    "else:\n",
    "    device = torch.device(\"cuda:0\" if torch.cuda.is_available() else \"cpu\")\n",
    "    print(\"Let's use CPU\")\n",
    "print(\"Batch size: %d\" % batch_size)\n",
    "\n",
    "model = simplenet \n",
    "model.to(device)\n",
    "\n",
    "def train(model, optimizer, loss_fn, train_loader, val_loader, epochs=20, device=device):\n",
    "    for epoch in range(epochs):\n",
    "        training_loss = 0.0\n",
    "        valid_loss = 0.0\n",
    "        model.train()\n",
    "        for batch in train_data_loader:\n",
    "            optimizer.zero_grad()\n",
    "            inputs, target = batch\n",
    "            inputs = inputs.to(device)\n",
    "            target = target.to(device)\n",
    "            output = model(inputs)\n",
    "            loss = loss_fn(output, target)\n",
    "            loss.backward()\n",
    "            optimizer.step()\n",
    "            training_loss += loss.data.item()\n",
    "        training_loss /= len(train_data_loader)\n",
    "\n",
    "        model.eval()\n",
    "        num_correct = 0\n",
    "        num_examples = 0\n",
    "\n",
    "        for batch in val_loader:\n",
    "            inputs, target = batch\n",
    "            inputs = inputs.to(device)\n",
    "            target = target.to(device)\n",
    "            output = model(inputs)\n",
    "            loss = loss_fn(output, target)\n",
    "            valid_loss += loss.data.item()\n",
    "#             print(torch.max(nn.functional.softmax(output, dim=1), dim=1))\n",
    "#             print(torch.eq(torch.argmax(nn.functional.softmax(output, dim=1), dim=1), target))\n",
    "            correct = torch.eq(torch.argmax(nn.functional.softmax(output, dim=1), dim=1), target)\n",
    "            \n",
    "            num_correct += torch.sum(correct).item()\n",
    "            num_examples += correct.shape[0]\n",
    "        valid_loss /= len(val_loader)\n",
    "        \n",
    "        print(\"Epoch: {}, Training Loss {:.2f}, Validation Loss: {:.2f}, accuracy = {:.2f}\".format(epoch, training_loss, valid_loss, \n",
    "                                                                                                   num_correct / num_examples))"
   ]
  },
  {
   "cell_type": "code",
   "execution_count": 457,
   "id": "c08f4242",
   "metadata": {
    "cellId": "g6bb1546f2i7zvm00har5m"
   },
   "outputs": [
    {
     "ename": "RuntimeError",
     "evalue": "CUDA out of memory. Tried to allocate 12.00 GiB (GPU 0; 31.75 GiB total capacity; 15.14 GiB already allocated; 9.24 GiB free; 21.17 GiB reserved in total by PyTorch)",
     "output_type": "error",
     "traceback": [
      "\u001b[0;31m---------------------------------------------------------------------------\u001b[0m",
      "\u001b[0;31mRuntimeError\u001b[0m                              Traceback (most recent call last)",
      "\u001b[0;32m<ipython-input-71-51e7b75b51d8>\u001b[0m in \u001b[0;36m<module>\u001b[0;34m\u001b[0m\n\u001b[0;32m----> 1\u001b[0;31m \u001b[0mtrain\u001b[0m\u001b[0;34m(\u001b[0m\u001b[0mmodel\u001b[0m\u001b[0;34m,\u001b[0m \u001b[0moptimizer\u001b[0m\u001b[0;34m,\u001b[0m \u001b[0mtorch\u001b[0m\u001b[0;34m.\u001b[0m\u001b[0mnn\u001b[0m\u001b[0;34m.\u001b[0m\u001b[0mCrossEntropyLoss\u001b[0m\u001b[0;34m(\u001b[0m\u001b[0;34m)\u001b[0m\u001b[0;34m,\u001b[0m \u001b[0mtrain_data_loader\u001b[0m\u001b[0;34m,\u001b[0m \u001b[0mval_data_loader\u001b[0m\u001b[0;34m)\u001b[0m\u001b[0;34m\u001b[0m\u001b[0;34m\u001b[0m\u001b[0m\n\u001b[0m\u001b[1;32m      2\u001b[0m \u001b[0;31m#\u001b[0m\u001b[0;34m\u001b[0m\u001b[0;34m\u001b[0m\u001b[0;34m\u001b[0m\u001b[0m\n",
      "\u001b[0;32m<ipython-input-70-e54270415243>\u001b[0m in \u001b[0;36mtrain\u001b[0;34m(model, optimizer, loss_fn, train_loader, val_loader, epochs, device)\u001b[0m\n\u001b[1;32m     28\u001b[0m             \u001b[0minputs\u001b[0m \u001b[0;34m=\u001b[0m \u001b[0minputs\u001b[0m\u001b[0;34m.\u001b[0m\u001b[0mto\u001b[0m\u001b[0;34m(\u001b[0m\u001b[0mdevice\u001b[0m\u001b[0;34m)\u001b[0m\u001b[0;34m\u001b[0m\u001b[0;34m\u001b[0m\u001b[0m\n\u001b[1;32m     29\u001b[0m             \u001b[0mtarget\u001b[0m \u001b[0;34m=\u001b[0m \u001b[0mtarget\u001b[0m\u001b[0;34m.\u001b[0m\u001b[0mto\u001b[0m\u001b[0;34m(\u001b[0m\u001b[0mdevice\u001b[0m\u001b[0;34m)\u001b[0m\u001b[0;34m\u001b[0m\u001b[0;34m\u001b[0m\u001b[0m\n\u001b[0;32m---> 30\u001b[0;31m             \u001b[0moutput\u001b[0m \u001b[0;34m=\u001b[0m \u001b[0mmodel\u001b[0m\u001b[0;34m(\u001b[0m\u001b[0minputs\u001b[0m\u001b[0;34m)\u001b[0m\u001b[0;34m\u001b[0m\u001b[0;34m\u001b[0m\u001b[0m\n\u001b[0m\u001b[1;32m     31\u001b[0m             \u001b[0mloss\u001b[0m \u001b[0;34m=\u001b[0m \u001b[0mloss_fn\u001b[0m\u001b[0;34m(\u001b[0m\u001b[0moutput\u001b[0m\u001b[0;34m,\u001b[0m \u001b[0mtarget\u001b[0m\u001b[0;34m)\u001b[0m\u001b[0;34m\u001b[0m\u001b[0;34m\u001b[0m\u001b[0m\n\u001b[1;32m     32\u001b[0m             \u001b[0mloss\u001b[0m\u001b[0;34m.\u001b[0m\u001b[0mbackward\u001b[0m\u001b[0;34m(\u001b[0m\u001b[0;34m)\u001b[0m\u001b[0;34m\u001b[0m\u001b[0;34m\u001b[0m\u001b[0m\n",
      "\u001b[0;32m~/.local/lib/python3.7/site-packages/torch/nn/modules/module.py\u001b[0m in \u001b[0;36m_call_impl\u001b[0;34m(self, *input, **kwargs)\u001b[0m\n\u001b[1;32m   1049\u001b[0m         if not (self._backward_hooks or self._forward_hooks or self._forward_pre_hooks or _global_backward_hooks\n\u001b[1;32m   1050\u001b[0m                 or _global_forward_hooks or _global_forward_pre_hooks):\n\u001b[0;32m-> 1051\u001b[0;31m             \u001b[0;32mreturn\u001b[0m \u001b[0mforward_call\u001b[0m\u001b[0;34m(\u001b[0m\u001b[0;34m*\u001b[0m\u001b[0minput\u001b[0m\u001b[0;34m,\u001b[0m \u001b[0;34m**\u001b[0m\u001b[0mkwargs\u001b[0m\u001b[0;34m)\u001b[0m\u001b[0;34m\u001b[0m\u001b[0;34m\u001b[0m\u001b[0m\n\u001b[0m\u001b[1;32m   1052\u001b[0m         \u001b[0;31m# Do not call functions when jit is used\u001b[0m\u001b[0;34m\u001b[0m\u001b[0;34m\u001b[0m\u001b[0;34m\u001b[0m\u001b[0m\n\u001b[1;32m   1053\u001b[0m         \u001b[0mfull_backward_hooks\u001b[0m\u001b[0;34m,\u001b[0m \u001b[0mnon_full_backward_hooks\u001b[0m \u001b[0;34m=\u001b[0m \u001b[0;34m[\u001b[0m\u001b[0;34m]\u001b[0m\u001b[0;34m,\u001b[0m \u001b[0;34m[\u001b[0m\u001b[0;34m]\u001b[0m\u001b[0;34m\u001b[0m\u001b[0;34m\u001b[0m\u001b[0m\n",
      "\u001b[0;32m<ipython-input-68-a6af966387f8>\u001b[0m in \u001b[0;36mforward\u001b[0;34m(self, input)\u001b[0m\n\u001b[1;32m     20\u001b[0m \u001b[0;34m\u001b[0m\u001b[0m\n\u001b[1;32m     21\u001b[0m     \u001b[0;32mdef\u001b[0m \u001b[0mforward\u001b[0m\u001b[0;34m(\u001b[0m\u001b[0mself\u001b[0m\u001b[0;34m,\u001b[0m \u001b[0minput\u001b[0m\u001b[0;34m)\u001b[0m\u001b[0;34m:\u001b[0m\u001b[0;34m\u001b[0m\u001b[0;34m\u001b[0m\u001b[0m\n\u001b[0;32m---> 22\u001b[0;31m         \u001b[0moutput\u001b[0m \u001b[0;34m=\u001b[0m \u001b[0mself\u001b[0m\u001b[0;34m.\u001b[0m\u001b[0mconv1\u001b[0m\u001b[0;34m(\u001b[0m\u001b[0minput\u001b[0m\u001b[0;34m)\u001b[0m\u001b[0;34m\u001b[0m\u001b[0;34m\u001b[0m\u001b[0m\n\u001b[0m\u001b[1;32m     23\u001b[0m         \u001b[0moutput\u001b[0m \u001b[0;34m=\u001b[0m \u001b[0mself\u001b[0m\u001b[0;34m.\u001b[0m\u001b[0mrelu1\u001b[0m\u001b[0;34m(\u001b[0m\u001b[0moutput\u001b[0m\u001b[0;34m)\u001b[0m\u001b[0;34m\u001b[0m\u001b[0;34m\u001b[0m\u001b[0m\n\u001b[1;32m     24\u001b[0m \u001b[0;34m\u001b[0m\u001b[0m\n",
      "\u001b[0;32m~/.local/lib/python3.7/site-packages/torch/nn/modules/module.py\u001b[0m in \u001b[0;36m_call_impl\u001b[0;34m(self, *input, **kwargs)\u001b[0m\n\u001b[1;32m   1049\u001b[0m         if not (self._backward_hooks or self._forward_hooks or self._forward_pre_hooks or _global_backward_hooks\n\u001b[1;32m   1050\u001b[0m                 or _global_forward_hooks or _global_forward_pre_hooks):\n\u001b[0;32m-> 1051\u001b[0;31m             \u001b[0;32mreturn\u001b[0m \u001b[0mforward_call\u001b[0m\u001b[0;34m(\u001b[0m\u001b[0;34m*\u001b[0m\u001b[0minput\u001b[0m\u001b[0;34m,\u001b[0m \u001b[0;34m**\u001b[0m\u001b[0mkwargs\u001b[0m\u001b[0;34m)\u001b[0m\u001b[0;34m\u001b[0m\u001b[0;34m\u001b[0m\u001b[0m\n\u001b[0m\u001b[1;32m   1052\u001b[0m         \u001b[0;31m# Do not call functions when jit is used\u001b[0m\u001b[0;34m\u001b[0m\u001b[0;34m\u001b[0m\u001b[0;34m\u001b[0m\u001b[0m\n\u001b[1;32m   1053\u001b[0m         \u001b[0mfull_backward_hooks\u001b[0m\u001b[0;34m,\u001b[0m \u001b[0mnon_full_backward_hooks\u001b[0m \u001b[0;34m=\u001b[0m \u001b[0;34m[\u001b[0m\u001b[0;34m]\u001b[0m\u001b[0;34m,\u001b[0m \u001b[0;34m[\u001b[0m\u001b[0;34m]\u001b[0m\u001b[0;34m\u001b[0m\u001b[0;34m\u001b[0m\u001b[0m\n",
      "\u001b[0;32m~/.local/lib/python3.7/site-packages/torch/nn/modules/conv.py\u001b[0m in \u001b[0;36mforward\u001b[0;34m(self, input)\u001b[0m\n\u001b[1;32m    441\u001b[0m \u001b[0;34m\u001b[0m\u001b[0m\n\u001b[1;32m    442\u001b[0m     \u001b[0;32mdef\u001b[0m \u001b[0mforward\u001b[0m\u001b[0;34m(\u001b[0m\u001b[0mself\u001b[0m\u001b[0;34m,\u001b[0m \u001b[0minput\u001b[0m\u001b[0;34m:\u001b[0m \u001b[0mTensor\u001b[0m\u001b[0;34m)\u001b[0m \u001b[0;34m->\u001b[0m \u001b[0mTensor\u001b[0m\u001b[0;34m:\u001b[0m\u001b[0;34m\u001b[0m\u001b[0;34m\u001b[0m\u001b[0m\n\u001b[0;32m--> 443\u001b[0;31m         \u001b[0;32mreturn\u001b[0m \u001b[0mself\u001b[0m\u001b[0;34m.\u001b[0m\u001b[0m_conv_forward\u001b[0m\u001b[0;34m(\u001b[0m\u001b[0minput\u001b[0m\u001b[0;34m,\u001b[0m \u001b[0mself\u001b[0m\u001b[0;34m.\u001b[0m\u001b[0mweight\u001b[0m\u001b[0;34m,\u001b[0m \u001b[0mself\u001b[0m\u001b[0;34m.\u001b[0m\u001b[0mbias\u001b[0m\u001b[0;34m)\u001b[0m\u001b[0;34m\u001b[0m\u001b[0;34m\u001b[0m\u001b[0m\n\u001b[0m\u001b[1;32m    444\u001b[0m \u001b[0;34m\u001b[0m\u001b[0m\n\u001b[1;32m    445\u001b[0m \u001b[0;32mclass\u001b[0m \u001b[0mConv3d\u001b[0m\u001b[0;34m(\u001b[0m\u001b[0m_ConvNd\u001b[0m\u001b[0;34m)\u001b[0m\u001b[0;34m:\u001b[0m\u001b[0;34m\u001b[0m\u001b[0;34m\u001b[0m\u001b[0m\n",
      "\u001b[0;32m~/.local/lib/python3.7/site-packages/torch/nn/modules/conv.py\u001b[0m in \u001b[0;36m_conv_forward\u001b[0;34m(self, input, weight, bias)\u001b[0m\n\u001b[1;32m    438\u001b[0m                             _pair(0), self.dilation, self.groups)\n\u001b[1;32m    439\u001b[0m         return F.conv2d(input, weight, bias, self.stride,\n\u001b[0;32m--> 440\u001b[0;31m                         self.padding, self.dilation, self.groups)\n\u001b[0m\u001b[1;32m    441\u001b[0m \u001b[0;34m\u001b[0m\u001b[0m\n\u001b[1;32m    442\u001b[0m     \u001b[0;32mdef\u001b[0m \u001b[0mforward\u001b[0m\u001b[0;34m(\u001b[0m\u001b[0mself\u001b[0m\u001b[0;34m,\u001b[0m \u001b[0minput\u001b[0m\u001b[0;34m:\u001b[0m \u001b[0mTensor\u001b[0m\u001b[0;34m)\u001b[0m \u001b[0;34m->\u001b[0m \u001b[0mTensor\u001b[0m\u001b[0;34m:\u001b[0m\u001b[0;34m\u001b[0m\u001b[0;34m\u001b[0m\u001b[0m\n",
      "\u001b[0;31mRuntimeError\u001b[0m: CUDA out of memory. Tried to allocate 12.00 GiB (GPU 0; 31.75 GiB total capacity; 15.14 GiB already allocated; 9.24 GiB free; 21.17 GiB reserved in total by PyTorch)"
     ]
    }
   ],
   "source": [
    "#!g1.1\n",
    "train(model, optimizer, torch.nn.CrossEntropyLoss(), train_data_loader, val_data_loader)"
   ]
  },
  {
   "cell_type": "code",
   "execution_count": 311,
   "id": "ea2de5a3",
   "metadata": {
    "cellId": "ls0zd5o2m97gwcqlb6tk47"
   },
   "outputs": [
    {
     "data": {
      "text/plain": [
       "8.528497643470764"
      ]
     },
     "metadata": {},
     "output_type": "display_data"
    }
   ],
   "source": [
    "#!g1.1\n",
    "training_loss"
   ]
  },
  {
   "cell_type": "code",
   "execution_count": 321,
   "id": "d0fb83c0",
   "metadata": {
    "cellId": "7fmceaxff2m614ug2pn17b"
   },
   "outputs": [],
   "source": [
    "class MLP(nn.Module):\n",
    "    def __init__(self, input_dim, output_dim):\n",
    "        super().__init__()\n",
    "                \n",
    "        self.input_fc = nn.Linear(input_dim, 84)\n",
    "        self.hidden_fc = nn.Linear(84, 50)\n",
    "        self.output_fc = nn.Linear(50, output_dim)\n",
    "        \n",
    "    def forward(self, x):\n",
    "        \n",
    "        #x = [batch size, height, width]\n",
    "        \n",
    "        batch_size = x.shape[0]\n",
    "\n",
    "        x = x.view(batch_size, -1)\n",
    "        \n",
    "        #x = [batch size, height * width]\n",
    "        \n",
    "        h_1 = nn.functional.relu(self.input_fc(x))\n",
    "        \n",
    "        #h_1 = [batch size, 250]\n",
    "\n",
    "        h_2 = nn.functional.relu(self.hidden_fc(h_1))\n",
    "\n",
    "        #h_2 = [batch size, 100]\n",
    "\n",
    "        y_pred = nn.functional.softmax(self.output_fc(h_2), dim=1)\n",
    "        \n",
    "        #y_pred = [batch size, output dim]\n",
    "        \n",
    "        return y_pred, h_2"
   ]
  },
  {
   "cell_type": "code",
   "execution_count": 322,
   "id": "479fcb6e",
   "metadata": {
    "cellId": "5dbu06ahheowgfel4v62r"
   },
   "outputs": [],
   "source": [
    "INPUT_DIM = 200 * 200\n",
    "OUTPUT_DIM = 6\n",
    "\n",
    "model = MLP(INPUT_DIM, OUTPUT_DIM)"
   ]
  },
  {
   "cell_type": "code",
   "execution_count": 323,
   "id": "172d6046",
   "metadata": {
    "cellId": "gxx9zgd9padf7ri3msxpld"
   },
   "outputs": [],
   "source": [
    "def count_parameters(model):\n",
    "    return sum(p.numel() for p in model.parameters() if p.requires_grad)"
   ]
  },
  {
   "cell_type": "code",
   "execution_count": 324,
   "id": "f46b6199",
   "metadata": {
    "cellId": "1glnegdns9j693a8bjwce3"
   },
   "outputs": [
    {
     "name": "stdout",
     "output_type": "stream",
     "text": [
      "The model has 3,364,640 trainable parameters\n"
     ]
    }
   ],
   "source": [
    "print(f'The model has {count_parameters(model):,} trainable parameters')"
   ]
  },
  {
   "cell_type": "code",
   "execution_count": 325,
   "id": "1dbdebd3",
   "metadata": {
    "cellId": "x9qbw94kl79b76f3vhvlhu"
   },
   "outputs": [],
   "source": [
    "import torch.optim as optim\n",
    "optimizer = optim.AdamW(model.parameters())"
   ]
  },
  {
   "cell_type": "code",
   "execution_count": 326,
   "id": "2603ea2a",
   "metadata": {
    "cellId": "d8faaoc5uqolhybudlr53g"
   },
   "outputs": [],
   "source": [
    "criterion = nn.CrossEntropyLoss()"
   ]
  },
  {
   "cell_type": "code",
   "execution_count": 327,
   "id": "375098c0",
   "metadata": {
    "cellId": "hmuimsyvxfkx4st9945nv"
   },
   "outputs": [],
   "source": [
    "device = torch.device('cuda' if torch.cuda.is_available() else 'cpu')\n",
    "model = model.to(device)\n",
    "criterion = criterion.to(device)"
   ]
  },
  {
   "cell_type": "code",
   "execution_count": 328,
   "id": "d7b9d576",
   "metadata": {
    "cellId": "1bl3csbms54g7v4iwpsmrt"
   },
   "outputs": [],
   "source": [
    "def calculate_accuracy(y_pred, y):\n",
    "    top_pred = y_pred.argmax(1, keepdim = True)\n",
    "    correct = top_pred.eq(y.view_as(top_pred)).sum()\n",
    "    acc = correct.float() / y.shape[0]\n",
    "    return acc"
   ]
  },
  {
   "cell_type": "code",
   "execution_count": 329,
   "id": "fd2e9b1c",
   "metadata": {
    "cellId": "hjan1qiunrne9gz76yeebd"
   },
   "outputs": [],
   "source": [
    "def train(model, iterator, optimizer, criterion, device):\n",
    "    \n",
    "    epoch_loss = 0\n",
    "    epoch_acc = 0\n",
    "    \n",
    "    model.train()\n",
    "    \n",
    "    for (x, y) in iterator:\n",
    "        \n",
    "        x = x.to(device)\n",
    "        y = y.to(device)\n",
    "        \n",
    "        optimizer.zero_grad()\n",
    "                \n",
    "        y_pred, _ = model(x)\n",
    "        \n",
    "        loss = criterion(y_pred, y)\n",
    "        \n",
    "        acc = calculate_accuracy(y_pred, y)\n",
    "        \n",
    "        loss.backward()\n",
    "        \n",
    "        optimizer.step()\n",
    "        \n",
    "        epoch_loss += loss.item()\n",
    "        epoch_acc += acc.item()\n",
    "        \n",
    "    return epoch_loss / len(iterator), epoch_acc / len(iterator)"
   ]
  },
  {
   "cell_type": "code",
   "execution_count": 330,
   "id": "bc673eaa",
   "metadata": {
    "cellId": "kpjg1o296eowgi1hhea789"
   },
   "outputs": [],
   "source": [
    "def evaluate(model, iterator, criterion, device):\n",
    "    \n",
    "    epoch_loss = 0\n",
    "    epoch_acc = 0\n",
    "    \n",
    "    model.eval()\n",
    "    \n",
    "    with torch.no_grad():\n",
    "        \n",
    "        for (x, y) in iterator:\n",
    "\n",
    "            x = x.to(device)\n",
    "            y = y.to(device)\n",
    "\n",
    "            y_pred, _ = model(x)\n",
    "\n",
    "            loss = criterion(y_pred, y)\n",
    "\n",
    "            acc = calculate_accuracy(y_pred, y)\n",
    "\n",
    "            epoch_loss += loss.item()\n",
    "            epoch_acc += acc.item()\n",
    "        \n",
    "    return epoch_loss / len(iterator), epoch_acc / len(iterator)"
   ]
  },
  {
   "cell_type": "code",
   "execution_count": 331,
   "id": "139fdc7e",
   "metadata": {
    "cellId": "0hjv2mf705co0f9t4ncmg2cr"
   },
   "outputs": [],
   "source": [
    "def epoch_time(start_time, end_time):\n",
    "    elapsed_time = end_time - start_time\n",
    "    elapsed_mins = int(elapsed_time / 60)\n",
    "    elapsed_secs = int(elapsed_time - (elapsed_mins * 60))\n",
    "    return elapsed_mins, elapsed_secs"
   ]
  },
  {
   "cell_type": "code",
   "execution_count": 332,
   "id": "4a2953f4",
   "metadata": {
    "cellId": "p0019m01gml96kkq2qwajj"
   },
   "outputs": [
    {
     "name": "stdout",
     "output_type": "stream",
     "text": [
      "Epoch:  1 | Epoch Time: 0m 4s\n",
      "\tTrain Loss: 1.931 | Train Acc: 9.19%\n",
      "\t Val. Loss: 1.884 |  Val. Acc: 15.62%\n",
      "Epoch:  2 | Epoch Time: 0m 1s\n",
      "\tTrain Loss: 1.871 | Train Acc: 16.47%\n",
      "\t Val. Loss: 1.950 |  Val. Acc: 9.38%\n",
      "Epoch:  3 | Epoch Time: 0m 2s\n",
      "\tTrain Loss: 1.902 | Train Acc: 13.60%\n",
      "\t Val. Loss: 1.893 |  Val. Acc: 14.84%\n",
      "Epoch:  4 | Epoch Time: 0m 2s\n",
      "\tTrain Loss: 1.772 | Train Acc: 27.17%\n",
      "\t Val. Loss: 1.887 |  Val. Acc: 15.62%\n",
      "Epoch:  5 | Epoch Time: 0m 2s\n",
      "\tTrain Loss: 1.758 | Train Acc: 28.49%\n",
      "\t Val. Loss: 1.884 |  Val. Acc: 15.62%\n",
      "Epoch:  6 | Epoch Time: 0m 2s\n",
      "\tTrain Loss: 1.753 | Train Acc: 29.04%\n",
      "\t Val. Loss: 1.882 |  Val. Acc: 16.41%\n",
      "Epoch:  7 | Epoch Time: 0m 2s\n",
      "\tTrain Loss: 1.766 | Train Acc: 27.96%\n",
      "\t Val. Loss: 1.893 |  Val. Acc: 14.84%\n",
      "Epoch:  8 | Epoch Time: 0m 2s\n",
      "\tTrain Loss: 1.757 | Train Acc: 28.62%\n",
      "\t Val. Loss: 1.853 |  Val. Acc: 18.75%\n",
      "Epoch:  9 | Epoch Time: 0m 2s\n",
      "\tTrain Loss: 1.751 | Train Acc: 29.04%\n",
      "\t Val. Loss: 1.884 |  Val. Acc: 15.62%\n",
      "Epoch: 10 | Epoch Time: 0m 2s\n",
      "\tTrain Loss: 1.739 | Train Acc: 30.25%\n",
      "\t Val. Loss: 1.899 |  Val. Acc: 12.50%\n",
      "Epoch: 11 | Epoch Time: 0m 2s\n",
      "\tTrain Loss: 1.811 | Train Acc: 23.21%\n",
      "\t Val. Loss: 1.887 |  Val. Acc: 15.62%\n",
      "Epoch: 12 | Epoch Time: 0m 2s\n",
      "\tTrain Loss: 1.743 | Train Acc: 29.89%\n",
      "\t Val. Loss: 1.886 |  Val. Acc: 15.62%\n",
      "Epoch: 13 | Epoch Time: 0m 2s\n",
      "\tTrain Loss: 1.733 | Train Acc: 31.04%\n",
      "\t Val. Loss: 1.852 |  Val. Acc: 21.88%\n",
      "Epoch: 14 | Epoch Time: 0m 2s\n",
      "\tTrain Loss: 1.724 | Train Acc: 31.94%\n",
      "\t Val. Loss: 1.760 |  Val. Acc: 29.69%\n",
      "Epoch: 15 | Epoch Time: 0m 2s\n",
      "\tTrain Loss: 1.738 | Train Acc: 30.68%\n",
      "\t Val. Loss: 1.880 |  Val. Acc: 15.62%\n",
      "Epoch: 16 | Epoch Time: 0m 2s\n",
      "\tTrain Loss: 1.725 | Train Acc: 32.01%\n",
      "\t Val. Loss: 1.886 |  Val. Acc: 15.62%\n",
      "Epoch: 17 | Epoch Time: 0m 2s\n",
      "\tTrain Loss: 1.714 | Train Acc: 32.84%\n",
      "\t Val. Loss: 1.825 |  Val. Acc: 22.66%\n",
      "Epoch: 18 | Epoch Time: 0m 2s\n",
      "\tTrain Loss: 1.707 | Train Acc: 33.65%\n",
      "\t Val. Loss: 1.857 |  Val. Acc: 16.41%\n",
      "Epoch: 19 | Epoch Time: 0m 2s\n",
      "\tTrain Loss: 1.708 | Train Acc: 33.46%\n",
      "\t Val. Loss: 1.872 |  Val. Acc: 17.19%\n",
      "Epoch: 20 | Epoch Time: 0m 2s\n",
      "\tTrain Loss: 1.716 | Train Acc: 32.59%\n",
      "\t Val. Loss: 1.763 |  Val. Acc: 28.12%\n",
      "Epoch: 21 | Epoch Time: 0m 2s\n",
      "\tTrain Loss: 1.703 | Train Acc: 34.00%\n",
      "\t Val. Loss: 1.746 |  Val. Acc: 32.03%\n",
      "Epoch: 22 | Epoch Time: 0m 2s\n",
      "\tTrain Loss: 1.714 | Train Acc: 32.92%\n",
      "\t Val. Loss: 1.817 |  Val. Acc: 22.66%\n",
      "Epoch: 23 | Epoch Time: 0m 2s\n",
      "\tTrain Loss: 1.714 | Train Acc: 32.91%\n",
      "\t Val. Loss: 1.814 |  Val. Acc: 22.66%\n",
      "Epoch: 24 | Epoch Time: 0m 2s\n",
      "\tTrain Loss: 1.702 | Train Acc: 34.00%\n",
      "\t Val. Loss: 1.804 |  Val. Acc: 23.44%\n",
      "Epoch: 25 | Epoch Time: 0m 2s\n",
      "\tTrain Loss: 1.696 | Train Acc: 34.84%\n",
      "\t Val. Loss: 1.774 |  Val. Acc: 24.22%\n",
      "Epoch: 26 | Epoch Time: 0m 2s\n",
      "\tTrain Loss: 1.697 | Train Acc: 34.60%\n",
      "\t Val. Loss: 1.764 |  Val. Acc: 28.12%\n",
      "Epoch: 27 | Epoch Time: 0m 2s\n",
      "\tTrain Loss: 1.746 | Train Acc: 29.37%\n",
      "\t Val. Loss: 1.868 |  Val. Acc: 15.62%\n",
      "Epoch: 28 | Epoch Time: 0m 2s\n",
      "\tTrain Loss: 1.730 | Train Acc: 31.34%\n",
      "\t Val. Loss: 1.855 |  Val. Acc: 18.75%\n",
      "Epoch: 29 | Epoch Time: 0m 2s\n",
      "\tTrain Loss: 1.685 | Train Acc: 35.80%\n",
      "\t Val. Loss: 1.855 |  Val. Acc: 18.75%\n",
      "Epoch: 30 | Epoch Time: 0m 2s\n",
      "\tTrain Loss: 1.710 | Train Acc: 33.31%\n",
      "\t Val. Loss: 1.844 |  Val. Acc: 19.53%\n",
      "Epoch: 31 | Epoch Time: 0m 2s\n",
      "\tTrain Loss: 1.718 | Train Acc: 32.47%\n",
      "\t Val. Loss: 1.868 |  Val. Acc: 17.19%\n",
      "Epoch: 32 | Epoch Time: 0m 2s\n",
      "\tTrain Loss: 1.701 | Train Acc: 34.15%\n",
      "\t Val. Loss: 1.868 |  Val. Acc: 17.19%\n",
      "Epoch: 33 | Epoch Time: 0m 2s\n",
      "\tTrain Loss: 1.698 | Train Acc: 34.46%\n",
      "\t Val. Loss: 1.863 |  Val. Acc: 17.97%\n",
      "Epoch: 34 | Epoch Time: 0m 2s\n",
      "\tTrain Loss: 1.675 | Train Acc: 36.86%\n",
      "\t Val. Loss: 1.787 |  Val. Acc: 25.78%\n",
      "Epoch: 35 | Epoch Time: 0m 2s\n",
      "\tTrain Loss: 1.664 | Train Acc: 37.90%\n",
      "\t Val. Loss: 1.793 |  Val. Acc: 25.00%\n",
      "Epoch: 36 | Epoch Time: 0m 2s\n",
      "\tTrain Loss: 1.653 | Train Acc: 38.99%\n",
      "\t Val. Loss: 1.809 |  Val. Acc: 24.22%\n",
      "Epoch: 37 | Epoch Time: 0m 2s\n",
      "\tTrain Loss: 1.769 | Train Acc: 27.45%\n",
      "\t Val. Loss: 1.852 |  Val. Acc: 18.75%\n",
      "Epoch: 38 | Epoch Time: 0m 2s\n",
      "\tTrain Loss: 1.745 | Train Acc: 29.85%\n",
      "\t Val. Loss: 1.824 |  Val. Acc: 21.88%\n",
      "Epoch: 39 | Epoch Time: 0m 2s\n",
      "\tTrain Loss: 1.753 | Train Acc: 28.90%\n",
      "\t Val. Loss: 1.824 |  Val. Acc: 21.88%\n",
      "Epoch: 40 | Epoch Time: 0m 2s\n",
      "\tTrain Loss: 1.690 | Train Acc: 35.39%\n",
      "\t Val. Loss: 1.821 |  Val. Acc: 21.88%\n",
      "Epoch: 41 | Epoch Time: 0m 2s\n",
      "\tTrain Loss: 1.734 | Train Acc: 30.80%\n",
      "\t Val. Loss: 1.876 |  Val. Acc: 16.41%\n",
      "Epoch: 42 | Epoch Time: 0m 2s\n",
      "\tTrain Loss: 1.696 | Train Acc: 34.65%\n",
      "\t Val. Loss: 1.809 |  Val. Acc: 23.44%\n",
      "Epoch: 43 | Epoch Time: 0m 2s\n",
      "\tTrain Loss: 1.698 | Train Acc: 34.48%\n",
      "\t Val. Loss: 1.809 |  Val. Acc: 23.44%\n",
      "Epoch: 44 | Epoch Time: 0m 2s\n",
      "\tTrain Loss: 1.687 | Train Acc: 35.68%\n",
      "\t Val. Loss: 1.809 |  Val. Acc: 23.44%\n",
      "Epoch: 45 | Epoch Time: 0m 2s\n",
      "\tTrain Loss: 1.673 | Train Acc: 37.00%\n",
      "\t Val. Loss: 1.786 |  Val. Acc: 25.78%\n",
      "Epoch: 46 | Epoch Time: 0m 2s\n",
      "\tTrain Loss: 1.670 | Train Acc: 37.42%\n",
      "\t Val. Loss: 1.794 |  Val. Acc: 25.00%\n",
      "Epoch: 47 | Epoch Time: 0m 2s\n",
      "\tTrain Loss: 1.669 | Train Acc: 37.42%\n",
      "\t Val. Loss: 1.801 |  Val. Acc: 24.22%\n",
      "Epoch: 48 | Epoch Time: 0m 2s\n",
      "\tTrain Loss: 1.660 | Train Acc: 38.32%\n",
      "\t Val. Loss: 1.792 |  Val. Acc: 25.00%\n",
      "Epoch: 49 | Epoch Time: 0m 2s\n",
      "\tTrain Loss: 1.655 | Train Acc: 38.87%\n",
      "\t Val. Loss: 1.786 |  Val. Acc: 25.78%\n",
      "Epoch: 50 | Epoch Time: 0m 2s\n",
      "\tTrain Loss: 1.649 | Train Acc: 39.46%\n",
      "\t Val. Loss: 1.855 |  Val. Acc: 18.75%\n"
     ]
    }
   ],
   "source": [
    "EPOCHS = 50\n",
    "\n",
    "best_valid_loss = float('inf')\n",
    "\n",
    "for epoch in range(EPOCHS):\n",
    "    \n",
    "    start_time = time.monotonic()\n",
    "    \n",
    "    train_loss, train_acc = train(model, train_data_loader, optimizer, criterion, device)\n",
    "    valid_loss, valid_acc = evaluate(model, valid_data_loader, criterion, device)\n",
    "    \n",
    "    if valid_loss < best_valid_loss:\n",
    "        best_valid_loss = valid_loss\n",
    "        torch.save(model.state_dict(), 'tut1-model.pt')\n",
    "    \n",
    "    end_time = time.monotonic()\n",
    "\n",
    "    epoch_mins, epoch_secs = epoch_time(start_time, end_time)\n",
    "    \n",
    "    print(f'Epoch: {epoch+1:2} | Epoch Time: {epoch_mins}m {epoch_secs}s')\n",
    "    print(f'\\tTrain Loss: {train_loss:.3f} | Train Acc: {train_acc*100:.2f}%')\n",
    "    print(f'\\t Val. Loss: {valid_loss:.3f} |  Val. Acc: {valid_acc*100:.2f}%')"
   ]
  },
  {
   "cell_type": "code",
   "execution_count": 640,
   "id": "b7fa275e",
   "metadata": {
    "cellId": "b6qyt0niyxkqwcfnwfu4d"
   },
   "outputs": [],
   "source": [
    "#!g1.1\n",
    "class CNNNet(nn.Module):\n",
    "    def __init__(self, num_classes = 6):\n",
    "        super(CNNNet, self).__init__()\n",
    "        self.features = nn.Sequential(\n",
    "            nn.Conv2d(1, 4, kernel_size=3, stride=2, padding=2), \n",
    "            nn.BatchNorm2d(4),\n",
    "            nn.ReLU(inplace=True),\n",
    "            nn.MaxPool2d(kernel_size=2, stride=2),\n",
    "            nn.Conv2d(4, 4, kernel_size=5, padding=2),\n",
    "            nn.BatchNorm2d(4),\n",
    "            nn.ReLU(inplace=True),\n",
    "            nn.MaxPool2d(kernel_size=2, stride=2),\n",
    "            nn.Conv2d(4, 16, kernel_size=3, padding=1),\n",
    "            nn.ReLU(inplace=True),\n",
    "            nn.Conv2d(16, 16, kernel_size=3, padding=1),\n",
    "            nn.ReLU(inplace=True),\n",
    "            nn.MaxPool2d(kernel_size=2, stride=2),\n",
    "        )\n",
    "        \n",
    "        self.avgpool = nn.AdaptiveAvgPool2d((6,6))\n",
    "        self.classifier = nn.Sequential (\n",
    "            nn.Dropout(),\n",
    "            nn.Linear(16*6*6, 2048), \n",
    "            nn.ReLU(inplace=True),\n",
    "            nn.Linear(2048, num_classes)\n",
    "        )\n",
    "        \n",
    "    def forward(self, x):\n",
    "        x = self.features(x)\n",
    "        x = self.avgpool(x)\n",
    "        x = torch.flatten(x, 1)\n",
    "        x = self.classifier(x)\n",
    "        return x"
   ]
  },
  {
   "cell_type": "code",
   "execution_count": 641,
   "id": "ce6f5ac5",
   "metadata": {
    "cellId": "484nmie7pg9kjrsfdqt3m"
   },
   "outputs": [],
   "source": [
    "#!g1.1\n",
    "modelCnn = CNNNet()"
   ]
  },
  {
   "cell_type": "code",
   "execution_count": 642,
   "id": "8e037e5f",
   "metadata": {
    "cellId": "woumil98zemzlejxbf1q9"
   },
   "outputs": [],
   "source": [
    "#!g1.1\n",
    "\n",
    "optimizer = optim.AdamW(modelCnn.parameters())\n",
    "\n",
    "device = torch.device('cuda' if torch.cuda.is_available() else 'cpu')\n",
    "\n",
    "modelCnn.to(device)\n",
    "train_losses = []\n",
    "val_losses = []\n",
    "\n",
    "def train(model, optimizer, loss_fn, train_loader, val_loader, epochs=60, device=device):\n",
    "    for epoch in range(epochs):\n",
    "        training_loss = 0.0\n",
    "        valid_loss = 0.0\n",
    "        model.train()\n",
    "        for batch in train_loader:\n",
    "            optimizer.zero_grad()\n",
    "            inputs, target = batch\n",
    "            inputs = inputs.to(device)\n",
    "            target = target.to(device)\n",
    "            output = model(inputs)\n",
    "            loss = loss_fn(output, target)\n",
    "            loss.backward()\n",
    "            optimizer.step()\n",
    "            training_loss += loss.data.item()\n",
    "        training_loss /= len(train_loader)\n",
    "        train_losses.append(training_loss)\n",
    "\n",
    "        model.eval()\n",
    "        num_correct = 0\n",
    "        num_examples = 0\n",
    "\n",
    "        for batch in val_loader:\n",
    "            inputs, target = batch\n",
    "            inputs = inputs.to(device)\n",
    "            target = target.to(device)\n",
    "            output = model(inputs)\n",
    "            loss = loss_fn(output, target)\n",
    "            valid_loss += loss.data.item()\n",
    "    #             print(torch.max(nn.functional.softmax(output, dim=1), dim=1))\n",
    "    #             print(torch.eq(torch.argmax(nn.functional.softmax(output, dim=1), dim=1), target))\n",
    "            correct = torch.eq(torch.argmax(nn.functional.softmax(output, dim=1), dim=1), target)\n",
    "\n",
    "            num_correct += torch.sum(correct).item()\n",
    "            num_examples += correct.shape[0]\n",
    "        valid_loss /= len(val_loader)\n",
    "        val_losses.append(valid_loss)\n",
    "        print(\"Epoch: {}, Training Loss {:.2f}, Validation Loss: {:.2f}, accuracy = {:.2f}\".format(epoch, training_loss, valid_loss, \n",
    "                                                                                                     num_correct / num_examples))\n",
    "        if valid_loss < 0.4 and training_loss < 0.5:\n",
    "            break "
   ]
  },
  {
   "cell_type": "code",
   "execution_count": 643,
   "id": "93244b33",
   "metadata": {
    "cellId": "uqx3g1ee24kkxr6ij5ek"
   },
   "outputs": [
    {
     "name": "stdout",
     "output_type": "stream",
     "text": [
      "Epoch: 0, Training Loss 2.37, Validation Loss: 1.84, accuracy = 0.17\n",
      "Epoch: 1, Training Loss 1.82, Validation Loss: 1.82, accuracy = 0.17\n",
      "Epoch: 2, Training Loss 1.80, Validation Loss: 1.81, accuracy = 0.17\n",
      "Epoch: 3, Training Loss 1.80, Validation Loss: 1.80, accuracy = 0.17\n",
      "Epoch: 4, Training Loss 1.79, Validation Loss: 1.80, accuracy = 0.17\n",
      "Epoch: 5, Training Loss 1.79, Validation Loss: 1.79, accuracy = 0.32\n",
      "Epoch: 6, Training Loss 1.79, Validation Loss: 1.78, accuracy = 0.40\n",
      "Epoch: 7, Training Loss 1.78, Validation Loss: 1.76, accuracy = 0.44\n",
      "Epoch: 8, Training Loss 1.80, Validation Loss: 1.78, accuracy = 0.19\n",
      "Epoch: 9, Training Loss 1.85, Validation Loss: 1.76, accuracy = 0.03\n",
      "Epoch: 10, Training Loss 1.81, Validation Loss: 1.78, accuracy = 0.42\n",
      "Epoch: 11, Training Loss 1.78, Validation Loss: 1.77, accuracy = 0.46\n",
      "Epoch: 12, Training Loss 1.75, Validation Loss: 1.75, accuracy = 0.32\n",
      "Epoch: 13, Training Loss 1.75, Validation Loss: 1.71, accuracy = 0.32\n",
      "Epoch: 14, Training Loss 1.72, Validation Loss: 1.65, accuracy = 0.39\n",
      "Epoch: 15, Training Loss 1.69, Validation Loss: 1.57, accuracy = 0.50\n",
      "Epoch: 16, Training Loss 1.59, Validation Loss: 1.22, accuracy = 0.61\n",
      "Epoch: 17, Training Loss 1.48, Validation Loss: 0.97, accuracy = 0.57\n",
      "Epoch: 18, Training Loss 1.40, Validation Loss: 0.92, accuracy = 0.54\n",
      "Epoch: 19, Training Loss 1.49, Validation Loss: 0.74, accuracy = 0.64\n",
      "Epoch: 20, Training Loss 1.50, Validation Loss: 0.78, accuracy = 0.51\n",
      "Epoch: 21, Training Loss 1.41, Validation Loss: 0.83, accuracy = 0.49\n",
      "Epoch: 22, Training Loss 1.40, Validation Loss: 0.86, accuracy = 0.61\n",
      "Epoch: 23, Training Loss 1.29, Validation Loss: 0.59, accuracy = 0.60\n",
      "Epoch: 24, Training Loss 1.10, Validation Loss: 0.58, accuracy = 0.75\n",
      "Epoch: 25, Training Loss 1.10, Validation Loss: 0.46, accuracy = 0.72\n",
      "Epoch: 26, Training Loss 1.02, Validation Loss: 0.46, accuracy = 0.74\n",
      "Epoch: 27, Training Loss 0.90, Validation Loss: 0.41, accuracy = 0.81\n",
      "Epoch: 28, Training Loss 0.93, Validation Loss: 0.45, accuracy = 0.68\n",
      "Epoch: 29, Training Loss 0.89, Validation Loss: 0.35, accuracy = 0.79\n",
      "Epoch: 30, Training Loss 0.73, Validation Loss: 0.35, accuracy = 0.76\n",
      "Epoch: 31, Training Loss 0.74, Validation Loss: 0.30, accuracy = 0.76\n",
      "Epoch: 32, Training Loss 0.68, Validation Loss: 0.26, accuracy = 0.76\n",
      "Epoch: 33, Training Loss 0.64, Validation Loss: 0.23, accuracy = 0.89\n",
      "Epoch: 34, Training Loss 0.59, Validation Loss: 0.29, accuracy = 0.75\n",
      "Epoch: 35, Training Loss 0.64, Validation Loss: 0.41, accuracy = 0.65\n",
      "Epoch: 36, Training Loss 0.61, Validation Loss: 0.33, accuracy = 0.85\n",
      "Epoch: 37, Training Loss 0.48, Validation Loss: 0.22, accuracy = 0.82\n"
     ]
    }
   ],
   "source": [
    "#!g1.1\n",
    "train(modelCnn, optimizer, torch.nn.CrossEntropyLoss(), train_data_loader, valid_data_loader)"
   ]
  },
  {
   "cell_type": "code",
   "execution_count": 644,
   "id": "0de75770",
   "metadata": {
    "cellId": "wtrk5pxl0ooozbubk7s618"
   },
   "outputs": [
    {
     "data": {
      "image/png": "[encoded data removed]",
      "text/plain": [
       "<Figure size 432x288 with 1 Axes>"
      ]
     },
     "metadata": {
      "needs_background": "light"
     },
     "output_type": "display_data"
    }
   ],
   "source": [
    "#!g1.1\n",
    "plt.plot(train_losses, label='Training loss')\n",
    "plt.plot(val_losses, label='Validation loss')\n",
    "plt.legend()\n",
    "plt.show()"
   ]
  },
  {
   "cell_type": "code",
   "execution_count": 645,
   "id": "b82105b4",
   "metadata": {
    "cellId": "52yqzyjo61j8bp52wmsk7v"
   },
   "outputs": [
    {
     "name": "stdout",
     "output_type": "stream",
     "text": [
      "0.8472222222222222\n"
     ]
    }
   ],
   "source": [
    "#!g1.1\n",
    "pred = []\n",
    "y_test = []\n",
    "for batch in test_data_loader:\n",
    "    inputs, target = batch\n",
    "    inputs = inputs.to(device)\n",
    "    target = target.to(device)\n",
    "    output = modelCnn(inputs)\n",
    "    softmax = torch.exp(output)\n",
    "    predictions = torch.argmax(softmax, dim=1)\n",
    "    # accuracy on validation set\n",
    "    pred += predictions.tolist()\n",
    "    y_test += target.tolist()\n",
    "acc = accuracy_score(pred, y_test)\n",
    "print(acc)"
   ]
  },
  {
   "cell_type": "code",
   "execution_count": 646,
   "id": "8b67a680",
   "metadata": {
    "cellId": "fas5u0g3y7f74ofzziluj"
   },
   "outputs": [],
   "source": [
    "#!g1.1\n",
    "import pickle\n",
    "raw_data = pickle.dumps(modelCnn)\n",
    "pickle.dump(modelCnn, open('modelCnn_0847.pkl','wb'))"
   ]
  },
  {
   "cell_type": "code",
   "execution_count": 630,
   "id": "f6ca746f",
   "metadata": {
    "cellId": "2okvm5jejmb1cl9r18ntuv"
   },
   "outputs": [
    {
     "name": "stdout",
     "output_type": "stream",
     "text": [
      "0.7638888888888888\n"
     ]
    }
   ],
   "source": [
    "#!g1.1\n",
    "pred = []\n",
    "y_test = []\n",
    "for batch in test_data_loader:\n",
    "    inputs, target = batch\n",
    "    inputs = inputs.to(device)\n",
    "    target = target.to(device)\n",
    "    output = modelCnn(inputs)\n",
    "    softmax = torch.exp(output)\n",
    "    predictions = torch.argmax(softmax, dim=1)\n",
    "    # accuracy on validation set\n",
    "    pred += predictions.tolist()\n",
    "    y_test += target.tolist()\n",
    "acc = accuracy_score(pred, y_test)\n",
    "print(acc)"
   ]
  },
  {
   "cell_type": "code",
   "execution_count": 631,
   "id": "a24f4023",
   "metadata": {
    "cellId": "9qr16scsnxeh24zm3ij4ji"
   },
   "outputs": [],
   "source": [
    "#!g1.1\n",
    "import pickle\n",
    "raw_data = pickle.dumps(modelCnn)\n",
    "pickle.dump(modelCnn, open('modelCnn.pkl','wb'))"
   ]
  },
  {
   "cell_type": "code",
   "execution_count": 682,
   "id": "f5b3f31a",
   "metadata": {
    "cellId": "d5yxwd3llo5tgyb8rejkog"
   },
   "outputs": [],
   "source": [
    "#!g1.1\n",
    "class Net(nn.Module):   \n",
    "    def __init__(self):\n",
    "        super(Net, self).__init__()\n",
    "    \n",
    "        self.cnn_layers = nn.Sequential(\n",
    "            \n",
    "        # Defining a 2D convolution layer\n",
    "        nn.Conv2d(1, 4, kernel_size=3, stride=1, padding=1),\n",
    "        nn.BatchNorm2d(4),\n",
    "        nn.ReLU(inplace=True),\n",
    "        nn.MaxPool2d(kernel_size=2, stride=2),\n",
    "        # Defining another 2D convolution layer\n",
    "        nn.Conv2d(4, 4, kernel_size=3, stride=1, padding=1),\n",
    "        nn.BatchNorm2d(4),\n",
    "        nn.ReLU(inplace=True),\n",
    "        nn.MaxPool2d(kernel_size=2, stride=2),\n",
    "                )\n",
    "        \n",
    "#         self.linear_layers = nn.Sequential(\n",
    "#         nn.Linear(10000, 6)\n",
    "#         )\n",
    "\n",
    "        self.avgpool = nn.AdaptiveAvgPool2d((6,6))\n",
    "        self.linear_layers = nn.Sequential (\n",
    "            nn.Dropout(),\n",
    "            nn.Linear(10000, 2048), \n",
    "            nn.ReLU(inplace=True),\n",
    "            nn.Linear(2048, 6)\n",
    "        )\n",
    "        \n",
    "    # Defining the forward pass    \n",
    "    def forward(self, x):\n",
    "        x = self.cnn_layers(x)\n",
    "        x = x.view(x.size(0), -1)\n",
    "        x = self.linear_layers(x)\n",
    "        return x"
   ]
  },
  {
   "cell_type": "code",
   "execution_count": 683,
   "id": "358f8aca",
   "metadata": {
    "cellId": "cogpsvkcf3r55mxd3coksp"
   },
   "outputs": [
    {
     "name": "stdout",
     "output_type": "stream",
     "text": [
      "Net(\n",
      "  (cnn_layers): Sequential(\n",
      "    (0): Conv2d(1, 4, kernel_size=(3, 3), stride=(1, 1), padding=(1, 1))\n",
      "    (1): BatchNorm2d(4, eps=1e-05, momentum=0.1, affine=True, track_running_stats=True)\n",
      "    (2): ReLU(inplace=True)\n",
      "    (3): MaxPool2d(kernel_size=2, stride=2, padding=0, dilation=1, ceil_mode=False)\n",
      "    (4): Conv2d(4, 4, kernel_size=(3, 3), stride=(1, 1), padding=(1, 1))\n",
      "    (5): BatchNorm2d(4, eps=1e-05, momentum=0.1, affine=True, track_running_stats=True)\n",
      "    (6): ReLU(inplace=True)\n",
      "    (7): MaxPool2d(kernel_size=2, stride=2, padding=0, dilation=1, ceil_mode=False)\n",
      "  )\n",
      "  (avgpool): AdaptiveAvgPool2d(output_size=(6, 6))\n",
      "  (linear_layers): Sequential(\n",
      "    (0): Dropout(p=0.5, inplace=False)\n",
      "    (1): Linear(in_features=10000, out_features=2048, bias=True)\n",
      "    (2): ReLU(inplace=True)\n",
      "    (3): Linear(in_features=2048, out_features=6, bias=True)\n",
      "  )\n",
      ")\n"
     ]
    }
   ],
   "source": [
    "#!g1.1\n",
    "\n",
    "# defining the model\n",
    "model = Net()\n",
    "# defining the optimizer\n",
    "optimizer = optim.AdamW(model.parameters())\n",
    "# defining the loss function\n",
    "criterion = torch.nn.CrossEntropyLoss()\n",
    "# checking if GPU is available\n",
    "if torch.cuda.is_available():\n",
    "    model = model.cuda()\n",
    "    criterion = criterion.cuda()\n",
    "    \n",
    "print(model)"
   ]
  },
  {
   "cell_type": "code",
   "execution_count": 684,
   "id": "5d99206f",
   "metadata": {
    "cellId": "tecxmc28ppsim1fmtv1vxn"
   },
   "outputs": [],
   "source": [
    "#!g1.1\n",
    "def train(epoch, device=device):\n",
    "    model.train()\n",
    "    tr_loss = 0\n",
    "    val_loss = 0\n",
    "    epoch_acc = 0\n",
    "    # getting the training set\n",
    "    for batch in train_data_loader:\n",
    "        x_train, y_train = batch\n",
    "\n",
    "        # converting the data into GPU format\n",
    "        x_train = x_train.to(device)\n",
    "        y_train = y_train.to(device)\n",
    "        optimizer.zero_grad()\n",
    "        # prediction for training and validation set\n",
    "        output_train = model(x_train)\n",
    "        \n",
    "        \n",
    "        # computing the training and validation loss\n",
    "        loss_train = criterion(output_train, y_train)\n",
    "        loss_train.backward()\n",
    "        optimizer.step()\n",
    "        tr_loss += loss_train.item()\n",
    "    train_losses.append(tr_loss / len(train_data_loader))\n",
    "        \n",
    "    for batch in valid_data_loader:\n",
    "        # getting the validation set\n",
    "        x_val, y_val = batch\n",
    "        x_val = x_val.to(device)\n",
    "        y_val = y_val.to(device)\n",
    "        output_val = model(x_val)\n",
    "        loss_val = criterion(output_val, y_val)\n",
    "        val_loss += loss_val.item()\n",
    "        acc = calculate_accuracy(output_val, y_val)\n",
    "        epoch_acc += acc.item()\n",
    "    val_losses.append(val_loss / len(valid_data_loader))\n",
    "            \n",
    "    # printing the validation loss\n",
    "    print('Epoch : ',epoch+1, '\\t', 'loss :', val_loss / len(valid_data_loader), 'acc:', epoch_acc / len(valid_data_loader))\n",
    "    \n",
    "    "
   ]
  },
  {
   "cell_type": "code",
   "execution_count": null,
   "id": "84183591",
   "metadata": {
    "cellId": "6novx7tfqnyzmjcs0gs6pe",
    "execution_id": "45a21ef9-8170-46d0-8dca-73cf90684710"
   },
   "outputs": [
    {
     "name": "stdout",
     "output_type": "stream",
     "text": [
      "Epoch :  1 \t loss : 2.3619704246520996 acc: 0.09375\n",
      "Epoch :  2 \t loss : 1.7815057039260864 acc: 0.390625\n",
      "Epoch :  3 \t loss : 1.7791277170181274 acc: 0.53125\n",
      "Epoch :  4 \t loss : 1.773857831954956 acc: 0.53125\n",
      "Epoch :  5 \t loss : 1.7845329642295837 acc: 0.53125\n",
      "Epoch :  6 \t loss : 1.7402083277702332 acc: 0.53125\n",
      "Epoch :  7 \t loss : 1.7763084173202515 acc: 0.296875\n",
      "Epoch :  8 \t loss : 1.7249988913536072 acc: 0.3671875\n",
      "Epoch :  9 \t loss : 1.7241060733795166 acc: 0.15625\n",
      "Epoch :  10 \t loss : 1.7066225409507751 acc: 0.1875\n",
      "Epoch :  11 \t loss : 1.6765475273132324 acc: 0.1875\n",
      "Epoch :  12 \t loss : 1.6588271856307983 acc: 0.1875\n",
      "Epoch :  13 \t loss : 1.6568848490715027 acc: 0.1875\n",
      "Epoch :  14 \t loss : 1.63938570022583 acc: 0.1875\n",
      "Epoch :  15 \t loss : 1.6328867673873901 acc: 0.1875\n",
      "Epoch :  16 \t loss : 1.6224392652511597 acc: 0.1875\n",
      "Epoch :  17 \t loss : 1.6193227767944336 acc: 0.1875\n",
      "Epoch :  18 \t loss : 1.6059862971305847 acc: 0.1875\n",
      "Epoch :  19 \t loss : 1.6029910445213318 acc: 0.25\n",
      "Epoch :  20 \t loss : 1.606112778186798 acc: 0.15625\n",
      "Epoch :  21 \t loss : 1.6083277463912964 acc: 0.171875\n",
      "Epoch :  22 \t loss : 1.620068609714508 acc: 0.171875\n",
      "Epoch :  23 \t loss : 1.5940969586372375 acc: 0.1953125\n",
      "Epoch :  24 \t loss : 1.6072629690170288 acc: 0.15625\n",
      "Epoch :  25 \t loss : 1.5728302597999573 acc: 0.25\n",
      "Epoch :  26 \t loss : 1.6008030772209167 acc: 0.234375\n",
      "Epoch :  27 \t loss : 1.5855407118797302 acc: 0.1875\n",
      "Epoch :  28 \t loss : 1.6133931279182434 acc: 0.15625\n",
      "Epoch :  29 \t loss : 1.5903682112693787 acc: 0.15625\n",
      "Epoch :  30 \t loss : 1.6139841079711914 acc: 0.171875\n",
      "Epoch :  31 \t loss : 1.5925809741020203 acc: 0.171875\n",
      "Epoch :  32 \t loss : 1.6007801294326782 acc: 0.1640625\n",
      "Epoch :  33 \t loss : 1.59501713514328 acc: 0.1640625\n",
      "Epoch :  34 \t loss : 1.5982255935668945 acc: 0.1875\n"
     ]
    }
   ],
   "source": [
    "#!g1.1\n",
    "# defining the number of epochs\n",
    "n_epochs = 70\n",
    "# empty list to store training losses\n",
    "train_losses = []\n",
    "# empty list to store validation losses\n",
    "val_losses = []\n",
    "# training the model\n",
    "for epoch in range(n_epochs):\n",
    "    train(epoch)"
   ]
  },
  {
   "cell_type": "code",
   "execution_count": null,
   "id": "a41823d7",
   "metadata": {
    "cellId": "1yfo3y5b9yf13hrhkgfye8",
    "execution_id": "e3619c2c-23ae-4b99-812c-ea3c8cd0fa07"
   },
   "outputs": [],
   "source": [
    "#!g1.1\n",
    "# plotting the training and validation loss\n",
    "plt.plot(train_losses, label='Training loss')\n",
    "plt.plot(val_losses, label='Validation loss')\n",
    "plt.legend()\n",
    "plt.show()"
   ]
  },
  {
   "cell_type": "code",
   "execution_count": null,
   "id": "e99b7e87",
   "metadata": {
    "cellId": "mi9m75i361hbx7x8hgtps4",
    "execution_id": "2ff8197c-c1c9-4fca-8f99-237cd3c4e27f"
   },
   "outputs": [],
   "source": [
    "#!g1.1\n",
    "pred = []\n",
    "y_test = []\n",
    "for batch in test_data_loader:\n",
    "    inputs, target = batch\n",
    "    inputs = inputs.to(device)\n",
    "    target = target.to(device)\n",
    "    output = model(inputs)\n",
    "    softmax = torch.exp(output)\n",
    "    predictions = torch.argmax(softmax, dim=1)\n",
    "    # accuracy on validation set\n",
    "    pred += predictions.tolist()\n",
    "    y_test += target.tolist()\n",
    "acc = accuracy_score(pred, y_test)\n",
    "print(acc)"
   ]
  },
  {
   "cell_type": "code",
   "execution_count": 522,
   "id": "2fffdac3",
   "metadata": {
    "cellId": "a7u0mbgjv7dzqvc39j99ct"
   },
   "outputs": [],
   "source": [
    "#!g1.1\n"
   ]
  },
  {
   "cell_type": "code",
   "execution_count": null,
   "id": "00752d33",
   "metadata": {
    "cellId": "7j8h4bzdsg8p2xfp05hyls"
   },
   "outputs": [],
   "source": [
    "#!g1.1\n"
   ]
  },
  {
   "cell_type": "code",
   "execution_count": 454,
   "id": "e70bd092",
   "metadata": {
    "cellId": "1rw2phk6c6g6ex0s2qd1yp"
   },
   "outputs": [],
   "source": [
    "#!g1.1\n",
    "class SimpleNet(nn.Module):\n",
    "    def __init__(self, num_classes=6):\n",
    "        super(SimpleNet, self).__init__()\n",
    "\n",
    "        self.conv1 = nn.Conv2d(in_channels=3, out_channels=12288, kernel_size=3, stride=1, padding=1)\n",
    "        self.relu1 = nn.ReLU()\n",
    "\n",
    "        self.conv2 = nn.Conv2d(in_channels=12288, out_channels=4096, kernel_size=3, stride=1, padding=1)\n",
    "        self.relu2 = nn.ReLU()\n",
    "\n",
    "        self.pool = nn.MaxPool2d(kernel_size=2)\n",
    "\n",
    "        self.conv3 = nn.Conv2d(in_channels=4096, out_channels=1024, kernel_size=3, stride=1, padding=1)\n",
    "        self.relu3 = nn.ReLU()\n",
    "\n",
    "        self.conv4 = nn.Conv2d(in_channels=1024, out_channels=256, kernel_size=3, stride=1, padding=1)\n",
    "        self.relu4 = nn.ReLU()\n",
    "\n",
    "        self.fc = nn.Linear(in_features=256, out_features=num_classes)\n",
    "\n",
    "    def forward(self, input):\n",
    "        output = self.conv1(input)\n",
    "        output = self.relu1(output)\n",
    "\n",
    "        output = self.conv2(output)\n",
    "        output = self.relu2(output)\n",
    "\n",
    "        output = self.pool(output)\n",
    "\n",
    "        output = self.conv3(output)\n",
    "        output = self.relu3(output)\n",
    "\n",
    "        output = self.conv4(output)\n",
    "        output = self.relu4(output)\n",
    "\n",
    "        output = output.view(-1, 256)\n",
    "\n",
    "        output = self.fc(output)\n",
    "\n",
    "        return output"
   ]
  },
  {
   "cell_type": "code",
   "execution_count": 196,
   "id": "fe84b526",
   "metadata": {
    "cellId": "0tcl6whjl8aj1q0b2m9kvsh"
   },
   "outputs": [],
   "source": [
    "#!g1.1\n",
    "class DataSet(Dataset):\n",
    "    \"\"\"Face Landmarks dataset.\"\"\"\n",
    "\n",
    "    def __init__(self, dataset_dir, transform=transforms.ToTensor()):\n",
    "        self.dataset_dir = dataset_dir\n",
    "        self.transform = transform\n",
    "        self.image_list = []\n",
    "        self.labels_list = []\n",
    "        \n",
    "        for i in range(6):\n",
    "            label_files = os.listdir(os.path.join(dataset_dir + str(i)))\n",
    "            if \".ipynb_checkpoints\" in label_files:\n",
    "                label_files.remove(\".ipynb_checkpoints\")\n",
    "            try: \n",
    "                for j in range(len(label_files)):\n",
    "                    self.labels_list.append(i)  \n",
    "                self.image_list += label_files\n",
    "            except BaseException:\n",
    "                raise Exception(f'Fail to load {label_files}.')\n",
    "\n",
    "    def __len__(self):\n",
    "        return len(self.image_list)\n",
    "\n",
    "    def __getitem__(self, idx):\n",
    "        img_path = os.path.join(self.dataset_dir + str(self.labels_list[idx]) + \"/\" + self.image_list[idx])\n",
    "#         print(img_path)\n",
    "        image = Image.open(img_path)\n",
    "#         print(image)\n",
    "        if self.transform:\n",
    "            image = self.transform(image)\n",
    "        return image, self.labels_list[idx]"
   ]
  },
  {
   "cell_type": "code",
   "execution_count": 197,
   "id": "b42c5fc8",
   "metadata": {
    "cellId": "avf0djby5e8l9lmaec6v3"
   },
   "outputs": [
    {
     "name": "stdout",
     "output_type": "stream",
     "text": [
      "1769\n",
      "(tensor([[[0.7020, 0.7020, 0.6588,  ..., 0.6902, 0.7294, 0.7059],\n",
      "         [0.7098, 0.6824, 0.6941,  ..., 0.7020, 0.7020, 0.7373],\n",
      "         [0.6588, 0.6941, 0.7176,  ..., 0.6863, 0.7373, 0.7647],\n",
      "         ...,\n",
      "         [0.6235, 0.6431, 0.6235,  ..., 0.6941, 0.6471, 0.6039],\n",
      "         [0.6392, 0.6549, 0.6353,  ..., 0.7020, 0.6510, 0.6235],\n",
      "         [0.6431, 0.6353, 0.6549,  ..., 0.6627, 0.6824, 0.6745]]]), 0)\n",
      "1,592 training samples\n",
      "  177 validation samples\n"
     ]
    }
   ],
   "source": []
  },
  {
   "cell_type": "code",
   "execution_count": 198,
   "id": "09a4075f",
   "metadata": {
    "cellId": "qyci9s3y3mpp9izyk2rv"
   },
   "outputs": [],
   "source": [
    "#!g1.1\n",
    "# dataloader = DataLoader(dataset, batch_size=64, shuffle=True)\n",
    "\n",
    "batch_size = 32\n",
    "\n",
    "# Create the DataLoaders for our training and validation sets.\n",
    "train_dataloader = DataLoader(\n",
    "            train_dataset,  # The training samples.\n",
    "            sampler = RandomSampler(train_dataset), # Select batches randomly\n",
    "            batch_size = batch_size # Trains with this batch size.\n",
    "        )\n",
    "\n",
    "validation_dataloader = DataLoader(\n",
    "            val_dataset, # The validation samples.\n",
    "            sampler = SequentialSampler(val_dataset), # Pull out batches sequentially.\n",
    "            batch_size = batch_size # Evaluate with this batch size.\n",
    "        )"
   ]
  },
  {
   "cell_type": "code",
   "execution_count": 199,
   "id": "3529aa3c",
   "metadata": {
    "cellId": "b96ja2nx4negfgn1cvg6lp"
   },
   "outputs": [
    {
     "data": {
      "image/png": "[encoded data removed]",
      "text/plain": [
       "<Figure size 432x288 with 1 Axes>"
      ]
     },
     "metadata": {
      "needs_background": "light"
     },
     "output_type": "display_data"
    },
    {
     "name": "stdout",
     "output_type": "stream",
     "text": [
      "Feature batch shape: torch.Size([32, 1, 512, 512])\n",
      "Labels batch shape: torch.Size([32])\n",
      "Label: 0\n"
     ]
    }
   ],
   "source": [
    "#!g1.1\n",
    "# Display image and label of train_dataloader.\n",
    "train_features, train_labels = next(iter(train_dataloader))\n",
    "print(f\"Feature batch shape: {train_features.size()}\")\n",
    "print(f\"Labels batch shape: {train_labels.size()}\")\n",
    "img = train_features[0].squeeze()\n",
    "label = train_labels[0]\n",
    "plt.imshow(img, cmap=\"gray\")\n",
    "plt.show()\n",
    "print(f\"Label: {label}\")"
   ]
  },
  {
   "cell_type": "code",
   "execution_count": 200,
   "id": "9eeeceb8",
   "metadata": {
    "cellId": "3r2eevdipjjfg9kf1ahpqb"
   },
   "outputs": [
    {
     "data": {
      "image/png": "[encoded data removed]",
      "text/plain": [
       "<Figure size 432x288 with 1 Axes>"
      ]
     },
     "metadata": {
      "needs_background": "light"
     },
     "output_type": "display_data"
    },
    {
     "name": "stdout",
     "output_type": "stream",
     "text": [
      "Feature batch shape: torch.Size([32, 1, 512, 512])\n",
      "Labels batch shape: torch.Size([32])\n",
      "Label: 2\n"
     ]
    }
   ],
   "source": [
    "#!g1.1\n",
    "# Display image and label of val_dataloader.\n",
    "val_features, val_labels = next(iter(validation_dataloader))\n",
    "print(f\"Feature batch shape: {val_features.size()}\")\n",
    "print(f\"Labels batch shape: {val_labels.size()}\")\n",
    "img = val_features[0].squeeze()\n",
    "label = val_labels[0]\n",
    "plt.imshow(img, cmap=\"gray\")\n",
    "plt.show()\n",
    "print(f\"Label: {label}\")"
   ]
  },
  {
   "cell_type": "code",
   "execution_count": 201,
   "id": "108f9e71",
   "metadata": {
    "cellId": "n0jadebfdncubev1mly09"
   },
   "outputs": [
    {
     "name": "stdout",
     "output_type": "stream",
     "text": [
      "Let's use 1 GPUs!\n",
      "Batch size: 32\n"
     ]
    }
   ],
   "source": [
    "#!g1.1\n",
    "if torch.cuda.is_available():\n",
    "    device = torch.device(\"cuda:0\")\n",
    "    batch_size *= torch.cuda.device_count()\n",
    "    print(\"Let's use\", torch.cuda.device_count(), \"GPUs!\")\n",
    "else:\n",
    "    device = torch.device(\"cuda:0\" if torch.cuda.is_available() else \"cpu\")\n",
    "    print(\"Let's use CPU\")\n",
    "print(\"Batch size: %d\" % batch_size)"
   ]
  },
  {
   "cell_type": "code",
   "execution_count": null,
   "id": "b7f24363",
   "metadata": {
    "cellId": "i8gq0bu3aws5psefs6t0v9"
   },
   "outputs": [],
   "source": [
    "#!g1.1\n"
   ]
  },
  {
   "cell_type": "code",
   "execution_count": null,
   "id": "17cd0f2a",
   "metadata": {
    "cellId": "276txxzm233zcgr58tclym"
   },
   "outputs": [],
   "source": [
    "#!g1.1\n"
   ]
  },
  {
   "cell_type": "code",
   "execution_count": 211,
   "id": "09ed6b67",
   "metadata": {
    "cellId": "nkjwcb9v9lj0e8vwixfde4g"
   },
   "outputs": [
    {
     "ename": "IndentationError",
     "evalue": "expected an indented block (<ipython-input-93-5cb9f9c28f6c>, line 7)",
     "output_type": "error",
     "traceback": [
      "\u001b[0;36m  File \u001b[0;32m\"<ipython-input-93-5cb9f9c28f6c>\"\u001b[0;36m, line \u001b[0;32m7\u001b[0m\n\u001b[0;31m    for step in range(num_steps):\u001b[0m\n\u001b[0m                                 ^\u001b[0m\n\u001b[0;31mIndentationError\u001b[0m\u001b[0;31m:\u001b[0m expected an indented block\n"
     ]
    }
   ],
   "source": [
    "#!g1.1\n",
    "num_steps = 10\n",
    "\n",
    "for step in range(num_steps):\n",
    "    start_time = time.time()\n",
    "    \n",
    "    for batch, label in train_dataloader:\n",
    "        \n",
    "\n",
    "#     phase = 'train'\n",
    "#     net.train()\n",
    "#     if step % val_step_interval == 0:\n",
    "#         phase = 'val'\n",
    "#         net.eval()\n"
   ]
  },
  {
   "cell_type": "code",
   "execution_count": null,
   "id": "13550a3c",
   "metadata": {
    "cellId": "jrah3u2lceahtt54ganw4r"
   },
   "outputs": [],
   "source": [
    "#!g1.1\n"
   ]
  },
  {
   "cell_type": "code",
   "execution_count": 4,
   "id": "fde3df42",
   "metadata": {
    "cellId": "lqgvsg7o5t2do5ktvsfda"
   },
   "outputs": [
    {
     "data": {
      "application/vnd.jupyter.widget-view+json": {
       "model_id": "9c3bf316f0ae451488e158e084151c9a",
       "version_major": 2,
       "version_minor": 0
      },
      "text/plain": [
       "HBox(children=(HTML(value=''), FloatProgress(value=1.0, bar_style='info', layout=Layout(width='20px'), max=1.0…"
      ]
     },
     "metadata": {},
     "output_type": "display_data"
    },
    {
     "data": {
      "application/vnd.jupyter.widget-view+json": {
       "model_id": "3e59f86e77654d20a392ddcd31ca5cdb",
       "version_major": 2,
       "version_minor": 0
      },
      "text/plain": [
       "HBox(children=(HTML(value=''), FloatProgress(value=1.0, bar_style='info', layout=Layout(width='20px'), max=1.0…"
      ]
     },
     "metadata": {},
     "output_type": "display_data"
    },
    {
     "data": {
      "application/vnd.jupyter.widget-view+json": {
       "model_id": "0e87c164f5d24c949cbe8b1a51685409",
       "version_major": 2,
       "version_minor": 0
      },
      "text/plain": [
       "HBox(children=(HTML(value=''), FloatProgress(value=1.0, bar_style='info', layout=Layout(width='20px'), max=1.0…"
      ]
     },
     "metadata": {},
     "output_type": "display_data"
    },
    {
     "data": {
      "application/vnd.jupyter.widget-view+json": {
       "model_id": "efb12b0bea514f3181fd6bb07c9ca9f3",
       "version_major": 2,
       "version_minor": 0
      },
      "text/plain": [
       "HBox(children=(HTML(value=''), FloatProgress(value=1.0, bar_style='info', layout=Layout(width='20px'), max=1.0…"
      ]
     },
     "metadata": {},
     "output_type": "display_data"
    },
    {
     "data": {
      "application/vnd.jupyter.widget-view+json": {
       "model_id": "11af71c2825c478899532da1a1014dc1",
       "version_major": 2,
       "version_minor": 0
      },
      "text/plain": [
       "HBox(children=(HTML(value=''), FloatProgress(value=1.0, bar_style='info', layout=Layout(width='20px'), max=1.0…"
      ]
     },
     "metadata": {},
     "output_type": "display_data"
    },
    {
     "data": {
      "application/vnd.jupyter.widget-view+json": {
       "model_id": "212101e48f4146cfaa3ef61f1282a36f",
       "version_major": 2,
       "version_minor": 0
      },
      "text/plain": [
       "HBox(children=(HTML(value=''), FloatProgress(value=1.0, bar_style='info', layout=Layout(width='20px'), max=1.0…"
      ]
     },
     "metadata": {},
     "output_type": "display_data"
    },
    {
     "name": "stdout",
     "output_type": "stream",
     "text": [
      "Downloading https://www.cs.toronto.edu/~kriz/cifar-10-python.tar.gz to ./data/train/0/cifar-10-python.tar.gz\n",
      "Extracting ./data/train/0/cifar-10-python.tar.gz to ./data/train/0\n",
      "Downloading https://www.cs.toronto.edu/~kriz/cifar-10-python.tar.gz to ./data/train/1/cifar-10-python.tar.gz\n",
      "Extracting ./data/train/1/cifar-10-python.tar.gz to ./data/train/1\n",
      "Downloading https://www.cs.toronto.edu/~kriz/cifar-10-python.tar.gz to ./data/train/2/cifar-10-python.tar.gz\n",
      "Extracting ./data/train/2/cifar-10-python.tar.gz to ./data/train/2\n",
      "Downloading https://www.cs.toronto.edu/~kriz/cifar-10-python.tar.gz to ./data/train/3/cifar-10-python.tar.gz\n",
      "Extracting ./data/train/3/cifar-10-python.tar.gz to ./data/train/3\n",
      "Downloading https://www.cs.toronto.edu/~kriz/cifar-10-python.tar.gz to ./data/train/4/cifar-10-python.tar.gz\n",
      "\n",
      "\n",
      "Extracting ./data/train/4/cifar-10-python.tar.gz to ./data/train/4\n",
      "Downloading https://www.cs.toronto.edu/~kriz/cifar-10-python.tar.gz to ./data/train/5/cifar-10-python.tar.gz\n",
      "Extracting ./data/train/5/cifar-10-python.tar.gz to ./data/train/5\n"
     ]
    }
   ],
   "source": [
    "\n",
    "classes = ('0', '1', '2', '3',\n",
    "           '4', '5')"
   ]
  },
  {
   "cell_type": "code",
   "execution_count": 5,
   "id": "4f25671b",
   "metadata": {
    "cellId": "mqel6spk3ervxxc532puie"
   },
   "outputs": [
    {
     "data": {
      "text/plain": [
       "6"
      ]
     },
     "metadata": {},
     "output_type": "display_data"
    }
   ],
   "source": [
    "#!g1.1\n",
    "len(dataset)"
   ]
  },
  {
   "cell_type": "code",
   "execution_count": 7,
   "id": "7f38f80b",
   "metadata": {
    "cellId": "902nxvycy9erx4eunyzo2b"
   },
   "outputs": [
    {
     "data": {
      "text/plain": [
       "50000"
      ]
     },
     "metadata": {},
     "output_type": "display_data"
    }
   ],
   "source": [
    "#!g1.1\n",
    "len(dataset[0])"
   ]
  },
  {
   "cell_type": "code",
   "execution_count": null,
   "id": "114ea44b",
   "metadata": {
    "cellId": "ylv465le5t80dsnzpw8a3t"
   },
   "outputs": [],
   "source": [
    "#!g1.1\n"
   ]
  }
 ],
 "metadata": {
  "kernelspec": {
   "display_name": "Python 3",
   "language": "python",
   "name": "python3"
  },
  "language_info": {
   "codemirror_mode": {
    "name": "ipython",
    "version": 3
   },
   "file_extension": ".py",
   "mimetype": "text/x-python",
   "name": "python",
   "nbconvert_exporter": "python",
   "pygments_lexer": "ipython3",
   "version": "3.6.9"
  },
  "notebookId": "bc6e017e-391a-4a99-8063-46fc88debcfd"
 },
 "nbformat": 4,
 "nbformat_minor": 5
}
